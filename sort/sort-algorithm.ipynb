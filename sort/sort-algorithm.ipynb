{
 "cells": [
  {
   "cell_type": "code",
   "execution_count": 8,
   "metadata": {
    "collapsed": true
   },
   "outputs": [
    {
     "name": "stdout",
     "output_type": "stream",
     "text": [
      "1 1\n",
      "for :  [25, 26, 22, 24, 27, 23, 21]\n",
      "whl :  [25, 26, 26, 24, 27, 23, 21] 0\n",
      "whl :  [25, 25, 26, 24, 27, 23, 21] -1\n",
      "0 2\n",
      "for :  [22, 25, 26, 24, 27, 23, 21]\n",
      "whl :  [22, 25, 26, 26, 27, 23, 21] 1\n",
      "whl :  [22, 25, 25, 26, 27, 23, 21] 0\n",
      "1 3\n",
      "for :  [22, 24, 25, 26, 27, 23, 21]\n",
      "4 4\n",
      "for :  [22, 24, 25, 26, 27, 23, 21]\n",
      "whl :  [22, 24, 25, 26, 27, 27, 21] 3\n",
      "whl :  [22, 24, 25, 26, 26, 27, 21] 2\n",
      "whl :  [22, 24, 25, 25, 26, 27, 21] 1\n",
      "whl :  [22, 24, 24, 25, 26, 27, 21] 0\n",
      "1 5\n",
      "for :  [22, 23, 24, 25, 26, 27, 21]\n",
      "whl :  [22, 23, 24, 25, 26, 27, 27] 4\n",
      "whl :  [22, 23, 24, 25, 26, 26, 27] 3\n",
      "whl :  [22, 23, 24, 25, 25, 26, 27] 2\n",
      "whl :  [22, 23, 24, 24, 25, 26, 27] 1\n",
      "whl :  [22, 23, 23, 24, 25, 26, 27] 0\n",
      "whl :  [22, 22, 23, 24, 25, 26, 27] -1\n",
      "0 6\n",
      "for :  [21, 22, 23, 24, 25, 26, 27]\n"
     ]
    },
    {
     "data": {
      "text/plain": "[21, 22, 23, 24, 25, 26, 27]"
     },
     "execution_count": 8,
     "metadata": {},
     "output_type": "execute_result"
    }
   ],
   "source": [
    "# 삽입 정렬\n",
    "\n",
    "def insertion_sort(list):\n",
    "    for i in range(1, len(list)):\n",
    "        j = i - 1\n",
    "        n = list[i]\n",
    "        while list[j] > n and j >= 0:\n",
    "            list[j+1] = list[j]\n",
    "            j = j - 1\n",
    "            print(\"whl : \", list, j\n",
    "                  )\n",
    "        list[j+1] = n\n",
    "        print(j + 1, i)\n",
    "        print(\"for : \", list)\n",
    "    return list\n",
    "\n",
    "l = [25, 26, 22, 24, 27, 23, 21]\n",
    "insertion_sort(l)"
   ]
  },
  {
   "cell_type": "code",
   "execution_count": null,
   "outputs": [],
   "source": [],
   "metadata": {
    "collapsed": false
   }
  }
 ],
 "metadata": {
  "kernelspec": {
   "display_name": "Python 3",
   "language": "python",
   "name": "python3"
  },
  "language_info": {
   "codemirror_mode": {
    "name": "ipython",
    "version": 2
   },
   "file_extension": ".py",
   "mimetype": "text/x-python",
   "name": "python",
   "nbconvert_exporter": "python",
   "pygments_lexer": "ipython2",
   "version": "2.7.6"
  }
 },
 "nbformat": 4,
 "nbformat_minor": 0
}
