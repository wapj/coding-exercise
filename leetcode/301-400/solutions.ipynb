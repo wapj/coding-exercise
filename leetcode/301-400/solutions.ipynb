{
 "cells": [
  {
   "cell_type": "code",
   "execution_count": 17,
   "metadata": {
    "collapsed": true
   },
   "outputs": [
    {
     "data": {
      "text/plain": "0"
     },
     "execution_count": 17,
     "metadata": {},
     "output_type": "execute_result"
    }
   ],
   "source": [
    "import random\n",
    "from collections import defaultdict\n",
    "\n",
    "# 380 https://leetcode.com/problems/insert-delete-getrandom-o1\n",
    "\n",
    "\"\"\"\n",
    "Implement the RandomizedSet object\n",
    "\"\"\"\n",
    "\n",
    "class RandomizedSet:\n",
    "\n",
    "    def __init__(self):\n",
    "        self.size = 0\n",
    "        self.arr = []\n",
    "        self.d = defaultdict(bool)\n",
    "\n",
    "    def insert(self, val: int) -> bool:\n",
    "        if not self.d[val]:\n",
    "            self.arr.append(val)\n",
    "            self.d[val] = True\n",
    "            self.size +=1\n",
    "            return True\n",
    "        else:\n",
    "            return False\n",
    "\n",
    "\n",
    "    def remove(self, val: int) -> bool:\n",
    "        if not self.d[val]:\n",
    "            return False\n",
    "        self.arr.remove(val)\n",
    "        del self.d[val]\n",
    "        self.size -=1\n",
    "        return True\n",
    "\n",
    "\n",
    "    def getRandom(self) -> int:\n",
    "        if self.size == 0:\n",
    "            return 0\n",
    "        return self.arr[random.randrange(self.size)]\n",
    "\n",
    "rs = RandomizedSet()\n"
   ]
  },
  {
   "cell_type": "code",
   "execution_count": 10,
   "outputs": [
    {
     "name": "stdout",
     "output_type": "stream",
     "text": [
      "True\n",
      "d\n",
      "e\n",
      "\n",
      "abc\n"
     ]
    },
    {
     "data": {
      "text/plain": "True"
     },
     "execution_count": 10,
     "metadata": {},
     "output_type": "execute_result"
    }
   ],
   "source": [
    "# 392 https://leetcode.com/problems/is-subsequence\n",
    "\n",
    "class Solution:\n",
    "    def isSubsequence(self, s: str, t: str) -> bool:\n",
    "        if len(s) > len(t): return False\n",
    "        if len(s) == 0: return True\n",
    "\n",
    "        sub_sequence = 0\n",
    "        for i in range(0, len(t)):\n",
    "            if sub_sequence < len(s) and s[sub_sequence] == t[i]:\n",
    "                sub_sequence += 1\n",
    "\n",
    "        return sub_sequence == len(s)\n",
    "\n",
    "\n",
    "# this problem is possible using two pointer methods\n",
    "class Solution:\n",
    "    def isSubsequence(self, s: str, t: str) -> bool:\n",
    "        i, j, n, m = 0, 0, len(s), len(t)\n",
    "\n",
    "        while i < n and j < m:\n",
    "            if s[i] == t[j]:\n",
    "                i += 1\n",
    "            j += 1\n",
    "        return i == n\n",
    "\n"
   ],
   "metadata": {
    "collapsed": false,
    "ExecuteTime": {
     "start_time": "2023-07-16T23:06:51.929755Z",
     "end_time": "2023-07-16T23:06:51.933830Z"
    }
   }
  },
  {
   "cell_type": "code",
   "execution_count": 11,
   "outputs": [
    {
     "data": {
      "text/plain": "True"
     },
     "execution_count": 11,
     "metadata": {},
     "output_type": "execute_result"
    }
   ],
   "source": [
    "# 383 https://leetcode.com/problems/ransom-note\n",
    "\n",
    "from collections import defaultdict\n",
    "\n",
    "class Solution:\n",
    "    def canConstruct(self, ransomNote: str, magazine: str) -> bool:\n",
    "        dd = defaultdict(int)\n",
    "        dd2 = defaultdict(int)\n",
    "\n",
    "        for c in magazine:\n",
    "            dd[c] += 1\n",
    "\n",
    "        for c in ransomNote:\n",
    "            dd2[c] += 1\n",
    "\n",
    "        for k, v in dd2.items():\n",
    "            if dd[k] < dd2[k]:\n",
    "                return False\n",
    "\n",
    "        return True\n",
    "\n",
    "r = \"aab\"\n",
    "m = \"baa\"\n",
    "s = Solution()\n",
    "s.canConstruct(r, m)"
   ],
   "metadata": {
    "collapsed": false,
    "pycharm": {
     "is_executing": true
    },
    "ExecuteTime": {
     "end_time": "2023-08-01T04:51:01.956661Z",
     "start_time": "2023-08-01T04:51:01.950823Z"
    }
   }
  },
  {
   "cell_type": "code",
   "execution_count": 9,
   "outputs": [],
   "source": [],
   "metadata": {
    "collapsed": false
   }
  }
 ],
 "metadata": {
  "kernelspec": {
   "display_name": "Python 3",
   "language": "python",
   "name": "python3"
  },
  "language_info": {
   "codemirror_mode": {
    "name": "ipython",
    "version": 2
   },
   "file_extension": ".py",
   "mimetype": "text/x-python",
   "name": "python",
   "nbconvert_exporter": "python",
   "pygments_lexer": "ipython2",
   "version": "2.7.6"
  }
 },
 "nbformat": 4,
 "nbformat_minor": 0
}
