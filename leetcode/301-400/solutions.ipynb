{
 "cells": [
  {
   "cell_type": "code",
   "execution_count": 17,
   "metadata": {
    "collapsed": true
   },
   "outputs": [
    {
     "data": {
      "text/plain": "0"
     },
     "execution_count": 17,
     "metadata": {},
     "output_type": "execute_result"
    }
   ],
   "source": [
    "import random\n",
    "from collections import defaultdict\n",
    "\n",
    "# 380 https://leetcode.com/problems/insert-delete-getrandom-o1\n",
    "\n",
    "\"\"\"\n",
    "Implement the RandomizedSet object\n",
    "\"\"\"\n",
    "\n",
    "class RandomizedSet:\n",
    "\n",
    "    def __init__(self):\n",
    "        self.size = 0\n",
    "        self.arr = []\n",
    "        self.d = defaultdict(bool)\n",
    "\n",
    "    def insert(self, val: int) -> bool:\n",
    "        if not self.d[val]:\n",
    "            self.arr.append(val)\n",
    "            self.d[val] = True\n",
    "            self.size +=1\n",
    "            return True\n",
    "        else:\n",
    "            return False\n",
    "\n",
    "\n",
    "    def remove(self, val: int) -> bool:\n",
    "        if not self.d[val]:\n",
    "            return False\n",
    "        self.arr.remove(val)\n",
    "        del self.d[val]\n",
    "        self.size -=1\n",
    "        return True\n",
    "\n",
    "\n",
    "    def getRandom(self) -> int:\n",
    "        if self.size == 0:\n",
    "            return 0\n",
    "        return self.arr[random.randrange(self.size)]\n",
    "\n",
    "rs = RandomizedSet()\n"
   ]
  },
  {
   "cell_type": "code",
   "execution_count": 10,
   "outputs": [],
   "source": [],
   "metadata": {
    "collapsed": false
   }
  },
  {
   "cell_type": "code",
   "execution_count": null,
   "outputs": [],
   "source": [],
   "metadata": {
    "collapsed": false,
    "pycharm": {
     "is_executing": true
    }
   }
  },
  {
   "cell_type": "code",
   "execution_count": 9,
   "outputs": [],
   "source": [],
   "metadata": {
    "collapsed": false
   }
  }
 ],
 "metadata": {
  "kernelspec": {
   "display_name": "Python 3",
   "language": "python",
   "name": "python3"
  },
  "language_info": {
   "codemirror_mode": {
    "name": "ipython",
    "version": 2
   },
   "file_extension": ".py",
   "mimetype": "text/x-python",
   "name": "python",
   "nbconvert_exporter": "python",
   "pygments_lexer": "ipython2",
   "version": "2.7.6"
  }
 },
 "nbformat": 4,
 "nbformat_minor": 0
}
