{
 "cells": [
  {
   "metadata": {},
   "cell_type": "markdown",
   "source": [
    "# 1785. Minimum Elements to Add to Form a Given Sum\n",
    "\n",
    "tag : `array`, `greedy` \n",
    "\n",
    "```\n",
    "You are given an integer array nums and two integers limit and goal. The array nums has an interesting property that abs(nums[i]) <= limit.\n",
    "\n",
    "Return the minimum number of elements you need to add to make the sum of the array equal to goal. The array must maintain its property that abs(nums[i]) <= limit.\n",
    "\n",
    "Note that abs(x) equals x if x >= 0, and -x otherwise.\n",
    "\n",
    " \n",
    "\n",
    "Example 1:\n",
    "\n",
    "Input: nums = [1,-1,1], limit = 3, goal = -4\n",
    "Output: 2\n",
    "Explanation: You can add -2 and -3, then the sum of the array will be 1 - 1 + 1 - 2 - 3 = -4.\n",
    "Example 2:\n",
    "\n",
    "Input: nums = [1,-10,9,1], limit = 100, goal = 0\n",
    "Output: 1\n",
    " \n",
    "\n",
    "Constraints:\n",
    "\n",
    "1 <= nums.length <= 105\n",
    "1 <= limit <= 106\n",
    "-limit <= nums[i] <= limit\n",
    "-109 <= goal <= 109\n",
    "```\n",
    "\n"
   ],
   "id": "296920126fa5ead4"
  },
  {
   "metadata": {
    "ExecuteTime": {
     "end_time": "2024-10-22T01:51:28.424785Z",
     "start_time": "2024-10-22T01:51:28.418780Z"
    }
   },
   "cell_type": "code",
   "source": [
    "# 답지 안보고 풀었음. ㄷㄷ\n",
    "\n",
    "class Solution:\n",
    "    def minElements(self, nums: list[int], limit:int , goal: int) -> int:\n",
    "        # 일단 sum을 하자.\n",
    "        s = sum(nums)\n",
    "        \n",
    "        target = s - goal\n",
    "        count = 0\n",
    "        use_minus = target > 0\n",
    "        while target != 0:\n",
    "            if use_minus and target >= limit:\n",
    "                n = target // limit\n",
    "                r = target % limit\n",
    "                count += n\n",
    "                target = r\n",
    "            elif not use_minus < 0 and -target >= limit:\n",
    "                n = -target // limit\n",
    "                r = -target % limit\n",
    "                count +=n\n",
    "                target = -r\n",
    "            else:\n",
    "                target -= target\n",
    "                count +=1\n",
    "        return count\n",
    "  \n",
    "sol = Solution()\n",
    "sol.minElements([5,6,4,5,-1,-5,1,4], 6, 589268180)"
   ],
   "id": "894d1d50c0c7d38e",
   "outputs": [
    {
     "data": {
      "text/plain": [
       "98211361"
      ]
     },
     "execution_count": 10,
     "metadata": {},
     "output_type": "execute_result"
    }
   ],
   "execution_count": 10
  }
 ],
 "metadata": {
  "kernelspec": {
   "display_name": "Python 3",
   "language": "python",
   "name": "python3"
  },
  "language_info": {
   "codemirror_mode": {
    "name": "ipython",
    "version": 2
   },
   "file_extension": ".py",
   "mimetype": "text/x-python",
   "name": "python",
   "nbconvert_exporter": "python",
   "pygments_lexer": "ipython2",
   "version": "2.7.6"
  }
 },
 "nbformat": 4,
 "nbformat_minor": 5
}
