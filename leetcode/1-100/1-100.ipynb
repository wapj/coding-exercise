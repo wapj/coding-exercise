{
 "cells": [
  {
   "cell_type": "code",
   "execution_count": 1,
   "metadata": {
    "collapsed": true
   },
   "outputs": [
    {
     "name": "stdout",
     "output_type": "stream",
     "text": [
      "[0, 1]\n"
     ]
    }
   ],
   "source": [
    "from typing import List\n",
    "\n",
    "\n",
    "# 1번 https://leetcode.com/problems/two-sum/\n",
    "\n",
    "def two_sum(nums: List[int], target: int):\n",
    "    for i, x in enumerate(nums):\n",
    "        for j, y in enumerate(nums[i + 1:]):\n",
    "            if x + y == target:\n",
    "                return [i, j + i + 1]\n",
    "\n",
    "\n",
    "print(two_sum([2, 7, 11, 15], 9))"
   ]
  },
  {
   "cell_type": "code",
   "execution_count": 2,
   "outputs": [
    {
     "name": "stdout",
     "output_type": "stream",
     "text": [
      "[0, 1]\n"
     ]
    }
   ],
   "source": [
    "# 1번 O(N) 풀이\n",
    "def two_sum_optimized(nums, target):\n",
    "    nums_map = {}\n",
    "    for i, num in enumerate(nums):\n",
    "        if target - num in nums_map:\n",
    "            return [nums_map[target - num], i]\n",
    "        nums_map[num] = i\n",
    "\n",
    "\n",
    "print(two_sum_optimized([2, 7, 11, 15], 9))"
   ],
   "metadata": {
    "collapsed": false
   }
  },
  {
   "cell_type": "code",
   "execution_count": 2,
   "outputs": [
    {
     "name": "stdout",
     "output_type": "stream",
     "text": [
      "III\n",
      "MMMCMXCIX\n"
     ]
    }
   ],
   "source": [
    "# 12번 https://leetcode.com/problems/integer-to-roman/\n",
    "\n",
    "def int_to_roman(num):\n",
    "    roman_map = {1000: 'M', 900: 'CM', 500: 'D', 400: 'CD', 100: 'C', 90: 'XC', 50: 'L', 40: 'XL', '10': 'X', 9: 'IX',\n",
    "                 5: 'V', 4: 'IV', 1: 'I'}\n",
    "\n",
    "    roman = ''\n",
    "    while num > 0:\n",
    "        if num >= 1000:\n",
    "            roman += roman_map[1000]\n",
    "            num -= 1000\n",
    "        elif num >= 900:\n",
    "            roman += roman_map[900]\n",
    "            num -= 900\n",
    "        elif num >= 500:\n",
    "            roman += roman_map[500]\n",
    "            num -= 500\n",
    "        elif num >= 400:\n",
    "            roman += roman_map[400]\n",
    "            num -= 400\n",
    "        elif num >= 100:\n",
    "            roman += roman_map[100]\n",
    "            num -= 100\n",
    "        elif num >= 90:\n",
    "            roman += roman_map[90]\n",
    "            num -= 90\n",
    "        elif num >= 50:\n",
    "            roman += roman_map[50]\n",
    "            num -= 50\n",
    "        elif num >= 40:\n",
    "            roman += roman_map[40]\n",
    "            num -= 40\n",
    "        elif num >= 10:\n",
    "            roman += roman_map[10]\n",
    "            num -= 10\n",
    "        elif num >= 9:\n",
    "            roman += roman_map[9]\n",
    "            num -= 9\n",
    "        elif num >= 5:\n",
    "            roman += roman_map[5]\n",
    "            num -= 5\n",
    "        elif num >= 4:\n",
    "            roman += roman_map[4]\n",
    "            num -= 4\n",
    "        elif num >= 1:\n",
    "            roman += roman_map[1]\n",
    "            num -= 1\n",
    "    return roman\n",
    "\n",
    "\n",
    "print(int_to_roman(3))\n",
    "print(int_to_roman(3999))"
   ],
   "metadata": {
    "collapsed": false
   }
  },
  {
   "cell_type": "markdown",
   "source": [
    "## 88번 https://leetcode.com/problems/merge-sorted-array/\n"
   ],
   "metadata": {
    "collapsed": false
   }
  },
  {
   "cell_type": "code",
   "execution_count": 1,
   "outputs": [
    {
     "name": "stdout",
     "output_type": "stream",
     "text": [
      "[1, 2, 3]\n",
      "[2, 5, 6]\n"
     ]
    }
   ],
   "source": [
    "nums1 = [1, 2, 3, 0, 0, 0]\n",
    "nums2 = [2, 5, 6]\n",
    "\n",
    "m = 3\n",
    "n = 3\n",
    "\n",
    "print(nums1[:m])\n",
    "print(nums2[:n])\n",
    "\n",
    "\n",
    "def merge(nums1, m, nums2, n):\n",
    "    nums1[:] = sorted(nums1[:m] + nums2[:n])\n",
    "    return nums1"
   ],
   "metadata": {
    "collapsed": false
   }
  },
  {
   "cell_type": "markdown",
   "source": [
    "num1과 num2는 각각 정렬이 된 상태입니다.\n",
    "정렬된 상태의 배열의 엘리먼트를 각각 m,n개"
   ],
   "metadata": {
    "collapsed": false
   }
  },
  {
   "cell_type": "code",
   "execution_count": null,
   "outputs": [],
   "source": [
    "# 27. Remove Element https://leetcode.com/problems/remove-element/\n",
    "# in-place 데이터 구조의 복사본을 만들지 않으면 됨\n",
    "def remove_element(nums: List[int], val: int):\n",
    "    while val in nums:\n",
    "        nums.remove(val)\n",
    "    return len(nums)"
   ],
   "metadata": {
    "collapsed": false
   }
  },
  {
   "cell_type": "code",
   "execution_count": 15,
   "outputs": [
    {
     "name": "stdout",
     "output_type": "stream",
     "text": [
      "[1, 2]\n",
      "[1, 2]\n",
      "[0, 1, 2, 3, 4]\n"
     ]
    },
    {
     "data": {
      "text/plain": "5"
     },
     "execution_count": 15,
     "metadata": {},
     "output_type": "execute_result"
    }
   ],
   "source": [
    "# 26. Remove Duplicates from Sorted Array\n",
    "# https://leetcode.com/problems/remove-duplicates-from-sorted-array\n",
    "\n",
    "from typing import List\n",
    "\n",
    "def remove_duplicates(nums: List[int]) -> int:\n",
    "    to_remove = []\n",
    "    for i, v in enumerate(nums):\n",
    "        if i > 0 and nums[i] == nums[i - 1]:\n",
    "            to_remove.append(v)\n",
    "    for n in to_remove:\n",
    "        nums.remove(n)\n",
    "    print(nums)\n",
    "\n",
    "\n",
    "nums = [1,1,2]\n",
    "remove_duplicates(nums)\n",
    "\n",
    "# in-place가 아니라서 다음과 같이 풀어야함\n",
    "# use to pointer\n",
    "\n",
    "def remove_duplicates2(nums:List[int]):\n",
    "    i, j = 0, 1\n",
    "    while i <= j < len(nums):\n",
    "        if nums[i] == nums[j]:\n",
    "            del nums[j]\n",
    "        else:\n",
    "            i+=1\n",
    "            j+=1\n",
    "    print(nums)\n",
    "    return len(nums)\n",
    "\n",
    "nums = [1,1,2]\n",
    "remove_duplicates2(nums)\n",
    "nums = [0,0,1,1,1,2,2,3,3,4]\n",
    "remove_duplicates2(nums)"
   ],
   "metadata": {
    "collapsed": false
   }
  },
  {
   "cell_type": "code",
   "execution_count": null,
   "outputs": [],
   "source": [],
   "metadata": {
    "collapsed": false
   }
  }
 ],
 "metadata": {
  "kernelspec": {
   "display_name": "Python 3",
   "language": "python",
   "name": "python3"
  },
  "language_info": {
   "codemirror_mode": {
    "name": "ipython",
    "version": 2
   },
   "file_extension": ".py",
   "mimetype": "text/x-python",
   "name": "python",
   "nbconvert_exporter": "python",
   "pygments_lexer": "ipython2",
   "version": "2.7.6"
  }
 },
 "nbformat": 4,
 "nbformat_minor": 0
}
