{
 "cells": [
  {
   "cell_type": "code",
   "execution_count": 30,
   "metadata": {
    "collapsed": true,
    "ExecuteTime": {
     "end_time": "2023-08-07T00:31:03.790900Z",
     "start_time": "2023-08-07T00:31:03.787305Z"
    }
   },
   "outputs": [
    {
     "name": "stdout",
     "output_type": "stream",
     "text": [
      "[0, 1]\n",
      "0 2\n",
      "1 5\n",
      "2 5\n",
      "3 3\n",
      "0 2\n",
      "1 5\n",
      "2 5\n"
     ]
    },
    {
     "data": {
      "text/plain": "[1, 2]"
     },
     "execution_count": 30,
     "metadata": {},
     "output_type": "execute_result"
    }
   ],
   "source": [
    "from typing import List\n",
    "\n",
    "\n",
    "# 1번 https://leetcode.com/problems/two-sum/\n",
    "\n",
    "def two_sum(nums: List[int], target: int):\n",
    "    for i, x in enumerate(nums):\n",
    "        for j, y in enumerate(nums[i + 1:]):\n",
    "            if x + y == target:\n",
    "                return [i, j + i + 1]\n",
    "\n",
    "\n",
    "print(two_sum([2, 7, 11, 15], 9))\n",
    "\n",
    "\n",
    "# two sum using dictionary\n",
    "# index가 중복되면 안되는 예외처리를 안해서 시간이 좀 더 걸림.\n",
    "\n",
    "def two_sum2(nums: List[int], target: int):\n",
    "    d = {}\n",
    "    ret = None\n",
    "    for i, n in enumerate(nums):\n",
    "        print(i, n)\n",
    "        if d.get(n) is None:\n",
    "            d[n] = i\n",
    "        rest_idx = d.get(target - n)\n",
    "        if i > 0 and i != rest_idx and rest_idx is not None:\n",
    "            ret = [i, rest_idx]\n",
    "            break\n",
    "    return sorted(ret)\n",
    "\n",
    "# two_sum2([2,4,11,3], 6)\n",
    "two_sum2([2,5,5,3], 10)\n"
   ]
  },
  {
   "cell_type": "code",
   "execution_count": 2,
   "outputs": [
    {
     "name": "stdout",
     "output_type": "stream",
     "text": [
      "[0, 1]\n"
     ]
    }
   ],
   "source": [
    "# 1번 O(N) 풀이\n",
    "def two_sum_optimized(nums, target):\n",
    "    nums_map = {}\n",
    "    for i, num in enumerate(nums):\n",
    "        if target - num in nums_map:\n",
    "            return [nums_map[target - num], i]\n",
    "        nums_map[num] = i\n",
    "\n",
    "\n",
    "print(two_sum_optimized([2, 7, 11, 15], 9))"
   ],
   "metadata": {
    "collapsed": false
   }
  },
  {
   "cell_type": "code",
   "execution_count": 2,
   "outputs": [
    {
     "name": "stdout",
     "output_type": "stream",
     "text": [
      "III\n",
      "MMMCMXCIX\n"
     ]
    }
   ],
   "source": [
    "# 12번 https://leetcode.com/problems/integer-to-roman/\n",
    "\n",
    "def int_to_roman(num):\n",
    "    roman_map = {1000: 'M', 900: 'CM', 500: 'D', 400: 'CD', 100: 'C', 90: 'XC', 50: 'L', 40: 'XL', '10': 'X', 9: 'IX',\n",
    "                 5: 'V', 4: 'IV', 1: 'I'}\n",
    "\n",
    "    roman = ''\n",
    "    while num > 0:\n",
    "        if num >= 1000:\n",
    "            roman += roman_map[1000]\n",
    "            num -= 1000\n",
    "        elif num >= 900:\n",
    "            roman += roman_map[900]\n",
    "            num -= 900\n",
    "        elif num >= 500:\n",
    "            roman += roman_map[500]\n",
    "            num -= 500\n",
    "        elif num >= 400:\n",
    "            roman += roman_map[400]\n",
    "            num -= 400\n",
    "        elif num >= 100:\n",
    "            roman += roman_map[100]\n",
    "            num -= 100\n",
    "        elif num >= 90:\n",
    "            roman += roman_map[90]\n",
    "            num -= 90\n",
    "        elif num >= 50:\n",
    "            roman += roman_map[50]\n",
    "            num -= 50\n",
    "        elif num >= 40:\n",
    "            roman += roman_map[40]\n",
    "            num -= 40\n",
    "        elif num >= 10:\n",
    "            roman += roman_map[10]\n",
    "            num -= 10\n",
    "        elif num >= 9:\n",
    "            roman += roman_map[9]\n",
    "            num -= 9\n",
    "        elif num >= 5:\n",
    "            roman += roman_map[5]\n",
    "            num -= 5\n",
    "        elif num >= 4:\n",
    "            roman += roman_map[4]\n",
    "            num -= 4\n",
    "        elif num >= 1:\n",
    "            roman += roman_map[1]\n",
    "            num -= 1\n",
    "    return roman\n",
    "\n",
    "\n",
    "print(int_to_roman(3))\n",
    "print(int_to_roman(3999))"
   ],
   "metadata": {
    "collapsed": false
   }
  },
  {
   "cell_type": "code",
   "execution_count": null,
   "outputs": [],
   "source": [
    "# 48 rotate image\n",
    "\n",
    "class Solution:\n",
    "    def rotate(self, matrix: List[List[int]]) -> None:\n",
    "        \"\"\"\n",
    "        Do not return anything, modify matrix in-place instead.\n",
    "\n",
    "        1. flip rows\n",
    "        2. swap the symmetric\n",
    "        \"\"\"\n",
    "\n",
    "        rows = len(matrix)\n",
    "        cols = len(matrix[0])\n",
    "\n",
    "        # flip rows\n",
    "        top = 0\n",
    "        bottom = rows - 1\n",
    "        while top < bottom:\n",
    "            for col in range(cols):\n",
    "                matrix[top][col], matrix[bottom][col] = matrix[bottom][col], matrix[top][col]\n",
    "            top += 1\n",
    "            bottom -= 1\n",
    "\n",
    "        # swap symetric\n",
    "        for i in range(rows):\n",
    "            for j in range(i):\n",
    "                matrix[i][j], matrix[j][i] = matrix[j][i], matrix[i][j]\n",
    "\n",
    "        print(matrix)\n"
   ],
   "metadata": {
    "collapsed": false
   }
  },
  {
   "cell_type": "code",
   "execution_count": 26,
   "outputs": [
    {
     "data": {
      "text/plain": "[['a']]"
     },
     "execution_count": 26,
     "metadata": {},
     "output_type": "execute_result"
    }
   ],
   "source": [
    "# 49 group anagrams https://leetcode.com/problems/group-anagrams\n",
    "from typing import List\n",
    "from collections import defaultdict\n",
    "\n",
    "# 무식하게 푼 버전\n",
    "class Solution:\n",
    "    def groupAnagrams(self, strs: List[str]) -> List[List[str]]:\n",
    "        # count occurences of characters in string\n",
    "\n",
    "        def get_serial(s):\n",
    "            s_dict = defaultdict(int)\n",
    "            serial = \"\"\n",
    "            for c in sorted(s):\n",
    "                 s_dict[c] += 1\n",
    "            for k, v in s_dict.items():\n",
    "                serial += f\"{k}{v}\"\n",
    "            return serial\n",
    "\n",
    "        serial_dict = {}\n",
    "        serial_idx = 0\n",
    "        for s in strs:\n",
    "            s_dict = defaultdict(int)\n",
    "            serial = get_serial(s)\n",
    "            if serial_dict.get(serial) is None:\n",
    "                serial_dict[serial] = serial_idx\n",
    "                serial_idx += 1\n",
    "\n",
    "\n",
    "        ret = [ [] for i in range(len(serial_dict))]\n",
    "\n",
    "        for s in strs:\n",
    "            serial = get_serial(s)\n",
    "            idx = serial_dict.get(serial)\n",
    "            ret[idx].append(s)\n",
    "\n",
    "        return ret\n",
    "strs = [\"eat\",\"tea\",\"tan\",\"ate\",\"nat\",\"bat\"]\n",
    "strs = [\"a\"]\n",
    "sol = Solution()\n",
    "sol.groupAnagrams(strs)\n",
    "\n",
    "# TODO 다르게 푸는 것 해보기\n",
    "# 똑똑하게 풀려면 key를 sorted string으로 넣고 값을 원본들의 리스트로 만들어서 append를 해주면 됨\n"
   ],
   "metadata": {
    "collapsed": false,
    "ExecuteTime": {
     "end_time": "2023-08-03T01:13:17.217036Z",
     "start_time": "2023-08-03T01:13:17.212429Z"
    }
   }
  },
  {
   "cell_type": "code",
   "execution_count": 22,
   "outputs": [
    {
     "name": "stdout",
     "output_type": "stream",
     "text": [
      "[]\n",
      "['a']\n",
      "['a']\n",
      "['a', 'b']\n",
      "['a']\n",
      "[]\n",
      "['a', '.', 'b', '..', '..', 'c']\n",
      "['c']\n"
     ]
    },
    {
     "data": {
      "text/plain": "'/c'"
     },
     "execution_count": 22,
     "metadata": {},
     "output_type": "execute_result"
    }
   ],
   "source": [
    "# 71 https://leetcode.com/problems/simplify-path\n",
    "\n",
    "class Solution:\n",
    "    def simplifyPath(self, path: str) -> str:\n",
    "        if len(path) == 1:\n",
    "            return \"/\"\n",
    "\n",
    "        while '//' in path:\n",
    "            path = path.replace(\"//\", \"/\")\n",
    "\n",
    "        if path.startswith('/'):\n",
    "            path = path[1:]\n",
    "        if path.endswith('/'):\n",
    "            path = path[:-1]\n",
    "\n",
    "        dirs = path.split('/')\n",
    "        path_stack = []\n",
    "\n",
    "        for d in dirs:\n",
    "            print(path_stack)\n",
    "            if d == '..' and len(path_stack) > 0:\n",
    "                path_stack.pop()\n",
    "            elif d != '..' and d != '.':\n",
    "                path_stack.append(d)\n",
    "\n",
    "        print(dirs)\n",
    "        print(path_stack)\n",
    "        return \"/\" + \"/\".join(path_stack)\n",
    "\n",
    "sol = Solution()\n",
    "path = \"///home/../foo/.../bar/\"\n",
    "\n",
    "path = \"/home/..\"\n",
    "path = \"/home/../..\"\n",
    "path = '/////home/../foo/../bar/amu/ge/..'\n",
    "path = \"/a/./b/../../c/\"\n",
    "sol.simplifyPath(path)"
   ],
   "metadata": {
    "collapsed": false,
    "ExecuteTime": {
     "end_time": "2023-08-21T01:03:26.117904Z",
     "start_time": "2023-08-21T01:03:26.113606Z"
    }
   }
  },
  {
   "cell_type": "code",
   "execution_count": 9,
   "outputs": [
    {
     "name": "stdout",
     "output_type": "stream",
     "text": [
      "DOBECODEBA\n",
      "OBECODEBA\n",
      "BECODEBA\n",
      "ECODEBA\n",
      "ODEBANC\n",
      "DEBANC\n",
      "EBANC\n",
      "['ADOBEC', 'CODEBA', 'BANC']\n"
     ]
    },
    {
     "data": {
      "text/plain": "'BANC'"
     },
     "execution_count": 9,
     "metadata": {},
     "output_type": "execute_result"
    }
   ],
   "source": [
    "# 76 https://leetcode.com/problems/minimum-window-substring\n",
    "\n",
    "from collections import Counter\n",
    "\n",
    "\"\"\"\n",
    "Two pointers, left and right\n",
    "Both start from 0,0\n",
    "Increase right pointer until valid window is found\n",
    "Decrease left pointer until window is no longer valid\n",
    "Add the minimum length window you've found to your results\n",
    "Continue increasing right pointer, pretty much repeating what we did above\n",
    "Return the minimum length of your results\n",
    "\"\"\"\n",
    "\n",
    "class Solution:\n",
    "    def minWindow(self, s: str, t: str) -> str:\n",
    "\n",
    "        # Define variables\n",
    "        s_count, t_count = Counter(), Counter(t)\n",
    "\n",
    "        l, r = 0, 0\n",
    "\n",
    "        results = []\n",
    "\n",
    "        while r <= len(s)-1:\n",
    "\n",
    "            # Find valid window\n",
    "            s_count[s[r]] += 1\n",
    "            r += 1\n",
    "            if s_count & t_count != t_count:\n",
    "                continue\n",
    "\n",
    "            # Minimize this window\n",
    "\n",
    "            while l < r:\n",
    "                s_count[s[l]] -= 1\n",
    "                l += 1\n",
    "                # 여기를 타는 애들은 s_count & t_count 를 모두 만족하는 애들이므로 줄일 수 있을 때까지 계속 줄인다.\n",
    "                if s_count & t_count == t_count:\n",
    "                    continue\n",
    "                results.append(s[l-1:r])\n",
    "                break\n",
    "\n",
    "\n",
    "        # Return result\n",
    "        if not results:\n",
    "            return \"\"\n",
    "\n",
    "        print(results)\n",
    "        return min(results, key=len)\n",
    "\n",
    "\n",
    "\n",
    "s = Solution()\n",
    "s.minWindow( \"ADOBECODEBANC\", \"ABC\")\n"
   ],
   "metadata": {
    "collapsed": false,
    "ExecuteTime": {
     "start_time": "2023-07-22T08:42:33.330565Z",
     "end_time": "2023-07-22T08:42:33.335230Z"
    }
   }
  },
  {
   "cell_type": "code",
   "execution_count": 7,
   "outputs": [
    {
     "name": "stdout",
     "output_type": "stream",
     "text": [
      "5in row0 5in col0 5in block00\n",
      "3in row0 3in col1 3in block00\n",
      "7in row0 7in col4 7in block01\n",
      "6in row1 6in col0 6in block00\n",
      "1in row1 1in col3 1in block01\n",
      "9in row1 9in col4 9in block01\n",
      "5in row1 5in col5 5in block01\n",
      "9in row2 9in col1 9in block00\n",
      "8in row2 8in col2 8in block00\n",
      "6in row2 6in col7 6in block02\n",
      "8in row3 8in col0 8in block10\n",
      "6in row3 6in col4 6in block11\n",
      "3in row3 3in col8 3in block12\n",
      "4in row4 4in col0 4in block10\n",
      "8in row4 8in col3 8in block11\n",
      "3in row4 3in col5 3in block11\n",
      "1in row4 1in col8 1in block12\n",
      "7in row5 7in col0 7in block10\n",
      "2in row5 2in col4 2in block11\n",
      "6in row5 6in col8 6in block12\n",
      "6in row6 6in col1 6in block20\n",
      "2in row6 2in col6 2in block22\n",
      "8in row6 8in col7 8in block22\n",
      "4in row7 4in col3 4in block21\n",
      "1in row7 1in col4 1in block21\n",
      "9in row7 9in col5 9in block21\n",
      "5in row7 5in col8 5in block22\n",
      "8in row8 8in col4 8in block21\n",
      "7in row8 7in col7 7in block22\n",
      "9in row8 9in col8 9in block22\n",
      "True\n"
     ]
    }
   ],
   "source": [
    "# 36 valid sudoku https://leetcode.com/problems/valid-sudoku\n",
    "\n",
    "from collections import defaultdict\n",
    "\n",
    "board = [[\"5\",\"3\",\".\",\".\",\"7\",\".\",\".\",\".\",\".\"]\n",
    ",[\"6\",\".\",\".\",\"1\",\"9\",\"5\",\".\",\".\",\".\"]\n",
    ",[\".\",\"9\",\"8\",\".\",\".\",\".\",\".\",\"6\",\".\"]\n",
    ",[\"8\",\".\",\".\",\".\",\"6\",\".\",\".\",\".\",\"3\"]\n",
    ",[\"4\",\".\",\".\",\"8\",\".\",\"3\",\".\",\".\",\"1\"]\n",
    ",[\"7\",\".\",\".\",\".\",\"2\",\".\",\".\",\".\",\"6\"]\n",
    ",[\".\",\"6\",\".\",\".\",\".\",\".\",\"2\",\"8\",\".\"]\n",
    ",[\".\",\".\",\".\",\"4\",\"1\",\"9\",\".\",\".\",\"5\"]\n",
    ",[\".\",\".\",\".\",\".\",\"8\",\".\",\".\",\"7\",\"9\"]]\n",
    "\n",
    "\n",
    "seen = set()\n",
    "\n",
    "for i in range(9):\n",
    "    for j in range(9):\n",
    "        number = str(board[i][j])\n",
    "        if number != '.':\n",
    "            row = number + 'in row' + str(i)\n",
    "            col = number + 'in col' + str(j)\n",
    "            block = number + 'in block' + str(i//3) + str(j//3)\n",
    "            print(row, col, block)\n",
    "\n",
    "            if row in seen or col in seen or block in seen:\n",
    "                print(False)\n",
    "\n",
    "            seen.add(row)\n",
    "            seen.add(col)\n",
    "            seen.add(block)\n",
    "print(True)\n",
    "\n"
   ],
   "metadata": {
    "collapsed": false,
    "ExecuteTime": {
     "end_time": "2023-07-24T01:48:14.022132Z",
     "start_time": "2023-07-24T01:48:14.016688Z"
    }
   }
  },
  {
   "cell_type": "code",
   "execution_count": null,
   "outputs": [],
   "source": [
    "# 54 Spiral Matrix https://leetcode.com/problems/spiral-matrix\n",
    "\n",
    "class Solution:\n",
    "    def spiralOrder(self, matrix: List[List[int]]) -> List[int]:\n",
    "        res = []\n",
    "\n",
    "        if len(matrix) == 0:\n",
    "            return res\n",
    "\n",
    "        row_begin = 0\n",
    "        col_begin = 0\n",
    "        row_end = len(matrix) - 1\n",
    "        col_end = len(matrix[0]) - 1\n",
    "\n",
    "        while row_begin <= row_end and col_begin <= col_end:\n",
    "            for i in range(col_begin, col_end + 1):\n",
    "                res.append(matrix[row_begin][i])\n",
    "            row_begin += 1\n",
    "\n",
    "            for i in range(row_begin, row_end + 1):\n",
    "                res.append(matrix[i][col_end])\n",
    "            col_end -= 1\n",
    "\n",
    "            if row_begin <= row_end:\n",
    "                for i in range(col_end, col_begin -1, -1):\n",
    "                    res.append(matrix[row_end][i])\n",
    "                row_end -= 1\n",
    "\n",
    "            if col_begin <= col_end:\n",
    "                for i in range(row_end, row_begin -1 , -1):\n",
    "                    res.append(matrix[i][col_begin])\n",
    "                col_begin += 1\n",
    "        return res\n"
   ],
   "metadata": {
    "collapsed": false
   }
  },
  {
   "cell_type": "code",
   "execution_count": 61,
   "outputs": [
    {
     "name": "stdout",
     "output_type": "stream",
     "text": [
      "ADO\n"
     ]
    },
    {
     "ename": "TypeError",
     "evalue": "unhashable type: 'Counter'",
     "output_type": "error",
     "traceback": [
      "\u001B[0;31m---------------------------------------------------------------------------\u001B[0m",
      "\u001B[0;31mTypeError\u001B[0m                                 Traceback (most recent call last)",
      "Input \u001B[0;32mIn [61]\u001B[0m, in \u001B[0;36m<cell line: 29>\u001B[0;34m()\u001B[0m\n\u001B[1;32m     25\u001B[0m         \u001B[38;5;28;01mreturn\u001B[39;00m \u001B[38;5;124m\"\u001B[39m\u001B[38;5;124m\"\u001B[39m\n\u001B[1;32m     28\u001B[0m s \u001B[38;5;241m=\u001B[39m Solution()\n\u001B[0;32m---> 29\u001B[0m \u001B[43ms\u001B[49m\u001B[38;5;241;43m.\u001B[39;49m\u001B[43mminWindow\u001B[49m\u001B[43m(\u001B[49m\u001B[43ms\u001B[49m\u001B[43m \u001B[49m\u001B[38;5;241;43m=\u001B[39;49m\u001B[43m \u001B[49m\u001B[38;5;124;43m\"\u001B[39;49m\u001B[38;5;124;43mADOBECODEBANC\u001B[39;49m\u001B[38;5;124;43m\"\u001B[39;49m\u001B[43m,\u001B[49m\u001B[43m \u001B[49m\u001B[43mt\u001B[49m\u001B[43m \u001B[49m\u001B[38;5;241;43m=\u001B[39;49m\u001B[43m \u001B[49m\u001B[38;5;124;43m\"\u001B[39;49m\u001B[38;5;124;43mABC\u001B[39;49m\u001B[38;5;124;43m\"\u001B[39;49m\u001B[43m)\u001B[49m\n",
      "Input \u001B[0;32mIn [61]\u001B[0m, in \u001B[0;36mSolution.minWindow\u001B[0;34m(self, s, t)\u001B[0m\n\u001B[1;32m     17\u001B[0m \u001B[38;5;28mprint\u001B[39m(s[i: i \u001B[38;5;241m+\u001B[39m \u001B[38;5;28mlen\u001B[39m(t) \u001B[38;5;241m+\u001B[39m n])\n\u001B[1;32m     18\u001B[0m seen \u001B[38;5;241m=\u001B[39m Counter(s[i: i \u001B[38;5;241m+\u001B[39m \u001B[38;5;28mlen\u001B[39m(t) \u001B[38;5;241m+\u001B[39m n])\n\u001B[0;32m---> 19\u001B[0m \u001B[38;5;28mprint\u001B[39m(\u001B[43mchar_bag\u001B[49m\u001B[43m \u001B[49m\u001B[38;5;129;43;01min\u001B[39;49;00m\u001B[43m \u001B[49m\u001B[43mseen\u001B[49m)\n\u001B[1;32m     21\u001B[0m \u001B[38;5;28;01mif\u001B[39;00m t \u001B[38;5;129;01min\u001B[39;00m s[i: i \u001B[38;5;241m+\u001B[39m \u001B[38;5;28mlen\u001B[39m(t) \u001B[38;5;241m+\u001B[39m n]:\n\u001B[1;32m     22\u001B[0m     \u001B[38;5;28mprint\u001B[39m(t)\n",
      "\u001B[0;31mTypeError\u001B[0m: unhashable type: 'Counter'"
     ]
    }
   ],
   "source": [
    "# 76 https://leetcode.com/problems/minimum-window-substring\n",
    "\n",
    "\n",
    "\n",
    "class Solution:\n",
    "    def minWindow(self, s: str, t: str) -> str:\n",
    "        if s == t:\n",
    "            return s\n",
    "\n",
    "        if len(s) < len(t):\n",
    "            return \"\"\n",
    "\n",
    "        char_bag = Counter(t)\n",
    "        for n in range(len(s) - len(t) + 1):\n",
    "            for i in range(len(s) - len(t) + 1):\n",
    "                seen = defaultdict(int)\n",
    "                print(s[i: i + len(t) + n])\n",
    "                seen = Counter(s[i: i + len(t) + n])\n",
    "                print(char_bag in seen)\n",
    "\n",
    "                if t in s[i: i + len(t) + n]:\n",
    "                    print(t)\n",
    "                    return s[i: i + len(t) + n]\n",
    "\n",
    "        return \"\"\n",
    "\n",
    "\n",
    "s = Solution()\n",
    "s.minWindow(s = \"ADOBECODEBANC\", t = \"ABC\")"
   ],
   "metadata": {
    "collapsed": false,
    "ExecuteTime": {
     "end_time": "2023-07-20T08:46:12.377192Z",
     "start_time": "2023-07-20T08:46:12.346399Z"
    }
   }
  },
  {
   "cell_type": "markdown",
   "source": [
    "## 88번 https://leetcode.com/problems/merge-sorted-array/\n"
   ],
   "metadata": {
    "collapsed": false
   }
  },
  {
   "cell_type": "code",
   "execution_count": 1,
   "outputs": [
    {
     "name": "stdout",
     "output_type": "stream",
     "text": [
      "[1, 2, 3]\n",
      "[2, 5, 6]\n"
     ]
    }
   ],
   "source": [
    "nums1 = [1, 2, 3, 0, 0, 0]\n",
    "nums2 = [2, 5, 6]\n",
    "\n",
    "m = 3\n",
    "n = 3\n",
    "\n",
    "print(nums1[:m])\n",
    "print(nums2[:n])\n",
    "\n",
    "\n",
    "def merge(nums1, m, nums2, n):\n",
    "    nums1[:] = sorted(nums1[:m] + nums2[:n])\n",
    "    return nums1"
   ],
   "metadata": {
    "collapsed": false
   }
  },
  {
   "cell_type": "markdown",
   "source": [
    "num1과 num2는 각각 정렬이 된 상태입니다.\n",
    "정렬된 상태의 배열의 엘리먼트를 각각 m,n개"
   ],
   "metadata": {
    "collapsed": false
   }
  },
  {
   "cell_type": "code",
   "execution_count": null,
   "outputs": [],
   "source": [
    "# 27. Remove Element https://leetcode.com/problems/remove-element/\n",
    "# in-place 데이터 구조의 복사본을 만들지 않으면 됨\n",
    "def remove_element(nums: List[int], val: int):\n",
    "    while val in nums:\n",
    "        nums.remove(val)\n",
    "    return len(nums)"
   ],
   "metadata": {
    "collapsed": false
   }
  },
  {
   "cell_type": "code",
   "execution_count": 15,
   "outputs": [
    {
     "name": "stdout",
     "output_type": "stream",
     "text": [
      "[1, 2]\n",
      "[1, 2]\n",
      "[0, 1, 2, 3, 4]\n"
     ]
    },
    {
     "data": {
      "text/plain": "5"
     },
     "execution_count": 15,
     "metadata": {},
     "output_type": "execute_result"
    }
   ],
   "source": [
    "# 26. Remove Duplicates from Sorted Array\n",
    "# https://leetcode.com/problems/remove-duplicates-from-sorted-array\n",
    "\n",
    "from typing import List\n",
    "\n",
    "def remove_duplicates(nums: List[int]) -> int:\n",
    "    to_remove = []\n",
    "    for i, v in enumerate(nums):\n",
    "        if i > 0 and nums[i] == nums[i - 1]:\n",
    "            to_remove.append(v)\n",
    "    for n in to_remove:\n",
    "        nums.remove(n)\n",
    "    print(nums)\n",
    "\n",
    "\n",
    "nums = [1,1,2]\n",
    "remove_duplicates(nums)\n",
    "\n",
    "# in-place가 아니라서 다음과 같이 풀어야함\n",
    "# use to pointer\n",
    "\n",
    "def remove_duplicates2(nums:List[int]):\n",
    "    i, j = 0, 1\n",
    "    while i <= j < len(nums):\n",
    "        if nums[i] == nums[j]:\n",
    "            del nums[j]\n",
    "        else:\n",
    "            i+=1\n",
    "            j+=1\n",
    "    print(nums)\n",
    "    return len(nums)\n",
    "\n",
    "nums = [1,1,2]\n",
    "remove_duplicates2(nums)\n",
    "nums = [0,0,1,1,1,2,2,3,3,4]\n",
    "remove_duplicates2(nums)"
   ],
   "metadata": {
    "collapsed": false
   }
  },
  {
   "cell_type": "code",
   "execution_count": 3,
   "outputs": [
    {
     "name": "stdout",
     "output_type": "stream",
     "text": [
      "3\n",
      "3\n"
     ]
    },
    {
     "ename": "ValueError",
     "evalue": "max() arg is an empty sequence",
     "output_type": "error",
     "traceback": [
      "\u001B[0;31m---------------------------------------------------------------------------\u001B[0m",
      "\u001B[0;31mValueError\u001B[0m                                Traceback (most recent call last)",
      "Input \u001B[0;32mIn [3]\u001B[0m, in \u001B[0;36m<cell line: 23>\u001B[0;34m()\u001B[0m\n\u001B[1;32m     19\u001B[0m         \u001B[38;5;28mprint\u001B[39m(curr_pointer)\n\u001B[1;32m     21\u001B[0m     \u001B[38;5;28;01mreturn\u001B[39;00m count\n\u001B[0;32m---> 23\u001B[0m \u001B[43mjump\u001B[49m\u001B[43m(\u001B[49m\u001B[43mnums\u001B[49m\u001B[43m)\u001B[49m\n",
      "Input \u001B[0;32mIn [3]\u001B[0m, in \u001B[0;36mjump\u001B[0;34m(nums)\u001B[0m\n\u001B[1;32m     15\u001B[0m \u001B[38;5;28;01mwhile\u001B[39;00m next_pointer \u001B[38;5;241m<\u001B[39m \u001B[38;5;28mlen\u001B[39m(nums) \u001B[38;5;241m-\u001B[39m \u001B[38;5;241m1\u001B[39m:\n\u001B[1;32m     16\u001B[0m     count \u001B[38;5;241m+\u001B[39m\u001B[38;5;241m=\u001B[39m \u001B[38;5;241m1\u001B[39m\n\u001B[0;32m---> 17\u001B[0m     nxt \u001B[38;5;241m=\u001B[39m \u001B[38;5;28;43mmax\u001B[39;49m\u001B[43m(\u001B[49m\u001B[43mnums\u001B[49m\u001B[43m[\u001B[49m\u001B[43mcurr_pointer\u001B[49m\u001B[43m:\u001B[49m\u001B[43m  \u001B[49m\u001B[43mnext_pointer\u001B[49m\u001B[43m \u001B[49m\u001B[38;5;241;43m+\u001B[39;49m\u001B[43m \u001B[49m\u001B[38;5;241;43m1\u001B[39;49m\u001B[43m]\u001B[49m\u001B[43m)\u001B[49m\n\u001B[1;32m     18\u001B[0m     curr_pointer, next_pointer \u001B[38;5;241m=\u001B[39m next_pointer, nxt\n\u001B[1;32m     19\u001B[0m     \u001B[38;5;28mprint\u001B[39m(curr_pointer)\n",
      "\u001B[0;31mValueError\u001B[0m: max() arg is an empty sequence"
     ]
    }
   ],
   "source": [
    "# 45 https://leetcode.com/problems/jump-game-ii\n",
    "from typing import List\n",
    "\n",
    "nums = [3,2,1,2,4]\n",
    "\n",
    "def jump(nums: List[int]) -> int:\n",
    "    if len(nums) <= 1:\n",
    "        return 0\n",
    "\n",
    "    count = 0\n",
    "    # maintain two pointers\n",
    "    curr_pointer = 0\n",
    "    next_pointer = nums[0]\n",
    "\n",
    "    while next_pointer < len(nums) - 1:\n",
    "        count += 1\n",
    "        nxt = max(nums[curr_pointer:  next_pointer + 1])\n",
    "        curr_pointer, next_pointer = next_pointer, nxt\n",
    "\n",
    "    return count\n",
    "\n",
    "jump(nums)"
   ],
   "metadata": {
    "collapsed": false
   }
  },
  {
   "cell_type": "code",
   "execution_count": 2,
   "outputs": [
    {
     "data": {
      "text/plain": "False"
     },
     "execution_count": 2,
     "metadata": {},
     "output_type": "execute_result"
    }
   ],
   "source": [
    "from typing import List\n",
    "\n",
    "# 55 https://leetcode.com/problems/jump-game\n",
    "nums = [5,1,2,0,3,3,4,1,1,0,1,3]\n",
    "nums2 = [3,2,1,0,4]\n",
    "def can_jump(nums:List[int]):\n",
    "    # current maximum jump\n",
    "    curr = 0\n",
    "\n",
    "    for i, v in enumerate(nums):\n",
    "\n",
    "        if i > curr:\n",
    "            return False\n",
    "\n",
    "        curr = max(curr, i + nums[i])\n",
    "\n",
    "    return True\n",
    "\n",
    "can_jump(nums)\n",
    "can_jump(nums2)"
   ],
   "metadata": {
    "collapsed": false
   }
  },
  {
   "cell_type": "code",
   "execution_count": 19,
   "outputs": [
    {
     "data": {
      "text/plain": "['This    is    an', 'example  of text', 'justification.  ']"
     },
     "execution_count": 19,
     "metadata": {},
     "output_type": "execute_result"
    }
   ],
   "source": [
    "# 68번 https://leetcode.com/problems/text-justification\n",
    "# 어렵다. 답보고 풀었음.\n",
    "\n",
    "class Solution:\n",
    "    def fullJustify(self, words: List[str], maxWidth: int) -> List[str]:\n",
    "\n",
    "        def get_words(i):\n",
    "            line = []\n",
    "            n = 0\n",
    "\n",
    "            while i < len(words) and n + len(words[i]) <= maxWidth:\n",
    "                line.append(words[i])\n",
    "                n += len(words[i]) + 1\n",
    "                i += 1\n",
    "            return line\n",
    "\n",
    "        def create_line(line, i):\n",
    "            base_length  = -1\n",
    "            for word in line:\n",
    "                base_length += len(word) + 1\n",
    "\n",
    "            extra_space = maxWidth - base_length\n",
    "\n",
    "            if len(line) == 1 or i == len(words):\n",
    "                return \" \".join(line) + \" \" * extra_space\n",
    "\n",
    "            # 마지막 단어에는 스페이스를 넣지 않으므로 -1 해줌\n",
    "            word_count = len(line) - 1\n",
    "            space_per_word = extra_space // word_count\n",
    "            need_extra_space = extra_space % word_count\n",
    "\n",
    "            for j in range(need_extra_space):\n",
    "                line[j] += \" \"\n",
    "\n",
    "            for j in range(word_count):\n",
    "                line[j] += \" \" * space_per_word\n",
    "\n",
    "            return \" \".join(line)\n",
    "\n",
    "        ans = []\n",
    "        i = 0\n",
    "        while i < len(words):\n",
    "            current_line = get_words(i)\n",
    "            i += len(current_line)\n",
    "            ans.append(create_line(current_line, i))\n",
    "\n",
    "        return ans\n",
    "\n",
    "\n",
    "s = Solution()\n",
    "words = [\"This\", \"is\", \"an\", \"example\", \"of\", \"text\", \"justification.\"]\n",
    "s.fullJustify(words, 16)\n",
    "\n"
   ],
   "metadata": {
    "collapsed": false,
    "ExecuteTime": {
     "start_time": "2023-07-16T22:30:36.527032Z",
     "end_time": "2023-07-16T22:30:36.530259Z"
    }
   }
  },
  {
   "cell_type": "code",
   "execution_count": null,
   "outputs": [],
   "source": [],
   "metadata": {
    "collapsed": false
   }
  }
 ],
 "metadata": {
  "kernelspec": {
   "display_name": "Python 3",
   "language": "python",
   "name": "python3"
  },
  "language_info": {
   "codemirror_mode": {
    "name": "ipython",
    "version": 2
   },
   "file_extension": ".py",
   "mimetype": "text/x-python",
   "name": "python",
   "nbconvert_exporter": "python",
   "pygments_lexer": "ipython2",
   "version": "2.7.6"
  }
 },
 "nbformat": 4,
 "nbformat_minor": 0
}
