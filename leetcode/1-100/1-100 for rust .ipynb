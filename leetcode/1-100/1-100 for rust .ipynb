{
 "cells": [
  {
   "cell_type": "code",
   "execution_count": 4,
   "outputs": [
    {
     "name": "stdout",
     "output_type": "stream",
     "text": [
      "헬로\n"
     ]
    },
    {
     "data": {
      "text/plain": "()"
     },
     "execution_count": 4,
     "metadata": {},
     "output_type": "execute_result"
    }
   ],
   "source": [
    "// 1. https://leetcode.com/problems/two-sum\n",
    "\n"
   ],
   "metadata": {
    "collapsed": false,
    "ExecuteTime": {
     "end_time": "2023-08-04T09:40:11.432881Z",
     "start_time": "2023-08-04T09:40:10.946321Z"
    }
   }
  },
  {
   "cell_type": "code",
   "execution_count": null,
   "outputs": [],
   "source": [],
   "metadata": {
    "collapsed": false
   }
  }
 ],
 "metadata": {
  "kernelspec": {
   "name": "rust",
   "language": "rust",
   "display_name": "Rust"
  }
 },
 "nbformat": 4,
 "nbformat_minor": 5
}
