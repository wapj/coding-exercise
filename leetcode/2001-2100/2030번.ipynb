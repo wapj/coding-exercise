{
 "cells": [
  {
   "metadata": {},
   "cell_type": "markdown",
   "source": [
    "# 2030. Smallest K-Length Subsequence With Occurrences of a Letter\n",
    "\n",
    "tags : `String`, `Stack`, `Greedy`, `Monotonic Stack`\n",
    "\n",
    "https://leetcode.com/problems/smallest-k-length-subsequence-with-occurrences-of-a-letter/description/\n",
    "\n",
    "You are given a string s, an integer k, a letter letter, and an integer repetition.\n",
    "Return the `lexicographically smallest` subsequence of s of length k \n",
    "that has the letter `letter` appear at least repetition times. \n",
    "\n",
    "The test cases are generated so that the letter appears in s at least repetition times.\n",
    "\n",
    "A subsequence is a string that can be derived from another string \n",
    "by deleting some or no characters without changing the order of the remaining characters.\n",
    "\n",
    "A string a is lexicographically smaller than a string b if in the first position where a and b differ, \n",
    "string a has a letter that appears earlier in the alphabet than the corresponding letter in b.\n",
    "\n",
    "\n",
    "Example 1:\n",
    "\n",
    "Input: s = \"leet\", k = 3, letter = \"e\", repetition = 1\n",
    "Output: \"eet\"\n",
    "Explanation: There are four subsequences of length 3 that have the letter 'e' appear at least 1 time:\n",
    "- \"lee\" (from \"leet\")\n",
    "- \"let\" (from \"leet\")\n",
    "- \"let\" (from \"leet\")\n",
    "- \"eet\" (from \"leet\")\n",
    "The lexicographically smallest subsequence among them is \"eet\".\n",
    "\n",
    "Example 2:\n",
    "Input: s = \"leetcode\", k = 4, letter = \"e\", repetition = 2\n",
    "Output: \"ecde\"\n",
    "Explanation: \"ecde\" is the lexicographically smallest subsequence of length 4 that has the letter \"e\" appear at least 2 times.\n",
    "\n",
    "Example 3:\n",
    "\n",
    "Input: s = \"bb\", k = 2, letter = \"b\", repetition = 2\n",
    "Output: \"bb\"\n",
    "Explanation: \"bb\" is the only subsequence of length 2 that has the letter \"b\" appear at least 2 times.\n",
    " \n",
    "\n",
    "Constraints:\n",
    "\n",
    "1 <= repetition <= k <= s.length <= 5 * 104\n",
    "s consists of lowercase English letters.\n",
    "letter is a lowercase English letter, and appears in s at least repetition times.\n",
    "\n"
   ],
   "id": "ede310c82003d93"
  },
  {
   "metadata": {
    "ExecuteTime": {
     "end_time": "2024-10-23T14:49:06.815046Z",
     "start_time": "2024-10-23T14:46:30.874446Z"
    }
   },
   "cell_type": "code",
   "source": [
    "# 일단 s에서 k개의 subsequence 를 구하는 문제를 풀어야 되지 않을까? \n",
    "# index를 바꾸지는 않는다. (스택을 사용해도 된다는 얘기인듯) \n",
    "# 부분집합에서 letter가 repetition 만큼 반복되는 걸 찾아야함.\n",
    "# 찾은 부분집합에서 lexicographically smallest 한걸 찾아야함. \n",
    "\n",
    "\n",
    "def find_subsequences(s, k):\n",
    "    def helper(start, path):\n",
    "        if len(path) == k: \n",
    "            if path.count(letter) >= repetition:\n",
    "                result.append(\"\".join(path))\n",
    "            return\n",
    "        for i in range(start, len(s)):\n",
    "            helper(i + 1, path + [s[i]])\n",
    "            \n",
    "    result =[]\n",
    "    helper(0, [])\n",
    "    return result\n",
    "\n",
    "s = \"wuynymkihfdcbabefiiymnoyyytywzy\"\n",
    "k = 16\n",
    "letter = \"y\"\n",
    "repetition = 4\n",
    "\n",
    "subsequences = find_subsequences(s, k)\n",
    "smallest_subsequence = min(subsequences)\n",
    "print(subsequences)\n",
    "print(smallest_subsequence)\n",
    "\n",
    "# 로직은 문제가 없지만, 너무 느려서 쓸 수 없다. \n",
    "# 어디가 느린가? \n",
    "# 부분집합을 구하는게 느리다. \n",
    "# 그렇다면 처음부터 조건에 맞는 부분집합만 찾아야한다.\n",
    "# 일단 틀렸으니 다른 사람이 잘 해결한 답지를 보자. \n"
   ],
   "id": "4cbd2909e997a058",
   "outputs": [
    {
     "ename": "KeyboardInterrupt",
     "evalue": "",
     "output_type": "error",
     "traceback": [
      "\u001B[0;31m---------------------------------------------------------------------------\u001B[0m",
      "\u001B[0;31mKeyboardInterrupt\u001B[0m                         Traceback (most recent call last)",
      "Cell \u001B[0;32mIn[5], line 25\u001B[0m\n\u001B[1;32m     22\u001B[0m letter \u001B[38;5;241m=\u001B[39m \u001B[38;5;124m\"\u001B[39m\u001B[38;5;124my\u001B[39m\u001B[38;5;124m\"\u001B[39m\n\u001B[1;32m     23\u001B[0m repetition \u001B[38;5;241m=\u001B[39m \u001B[38;5;241m4\u001B[39m\n\u001B[0;32m---> 25\u001B[0m subsequences \u001B[38;5;241m=\u001B[39m \u001B[43mfind_subsequences\u001B[49m\u001B[43m(\u001B[49m\u001B[43ms\u001B[49m\u001B[43m,\u001B[49m\u001B[43m \u001B[49m\u001B[43mk\u001B[49m\u001B[43m)\u001B[49m\n\u001B[1;32m     26\u001B[0m smallest_subsequence \u001B[38;5;241m=\u001B[39m \u001B[38;5;28mmin\u001B[39m(subsequences)\n\u001B[1;32m     27\u001B[0m \u001B[38;5;28mprint\u001B[39m(subsequences)\n",
      "Cell \u001B[0;32mIn[5], line 17\u001B[0m, in \u001B[0;36mfind_subsequences\u001B[0;34m(s, k)\u001B[0m\n\u001B[1;32m     14\u001B[0m         helper(i \u001B[38;5;241m+\u001B[39m \u001B[38;5;241m1\u001B[39m, path \u001B[38;5;241m+\u001B[39m [s[i]])\n\u001B[1;32m     16\u001B[0m result \u001B[38;5;241m=\u001B[39m[]\n\u001B[0;32m---> 17\u001B[0m \u001B[43mhelper\u001B[49m\u001B[43m(\u001B[49m\u001B[38;5;241;43m0\u001B[39;49m\u001B[43m,\u001B[49m\u001B[43m \u001B[49m\u001B[43m[\u001B[49m\u001B[43m]\u001B[49m\u001B[43m)\u001B[49m\n\u001B[1;32m     18\u001B[0m \u001B[38;5;28;01mreturn\u001B[39;00m result\n",
      "Cell \u001B[0;32mIn[5], line 14\u001B[0m, in \u001B[0;36mfind_subsequences.<locals>.helper\u001B[0;34m(start, path)\u001B[0m\n\u001B[1;32m     12\u001B[0m     \u001B[38;5;28;01mreturn\u001B[39;00m\n\u001B[1;32m     13\u001B[0m \u001B[38;5;28;01mfor\u001B[39;00m i \u001B[38;5;129;01min\u001B[39;00m \u001B[38;5;28mrange\u001B[39m(start, \u001B[38;5;28mlen\u001B[39m(s)):\n\u001B[0;32m---> 14\u001B[0m     \u001B[43mhelper\u001B[49m\u001B[43m(\u001B[49m\u001B[43mi\u001B[49m\u001B[43m \u001B[49m\u001B[38;5;241;43m+\u001B[39;49m\u001B[43m \u001B[49m\u001B[38;5;241;43m1\u001B[39;49m\u001B[43m,\u001B[49m\u001B[43m \u001B[49m\u001B[43mpath\u001B[49m\u001B[43m \u001B[49m\u001B[38;5;241;43m+\u001B[39;49m\u001B[43m \u001B[49m\u001B[43m[\u001B[49m\u001B[43ms\u001B[49m\u001B[43m[\u001B[49m\u001B[43mi\u001B[49m\u001B[43m]\u001B[49m\u001B[43m]\u001B[49m\u001B[43m)\u001B[49m\n",
      "Cell \u001B[0;32mIn[5], line 14\u001B[0m, in \u001B[0;36mfind_subsequences.<locals>.helper\u001B[0;34m(start, path)\u001B[0m\n\u001B[1;32m     12\u001B[0m     \u001B[38;5;28;01mreturn\u001B[39;00m\n\u001B[1;32m     13\u001B[0m \u001B[38;5;28;01mfor\u001B[39;00m i \u001B[38;5;129;01min\u001B[39;00m \u001B[38;5;28mrange\u001B[39m(start, \u001B[38;5;28mlen\u001B[39m(s)):\n\u001B[0;32m---> 14\u001B[0m     \u001B[43mhelper\u001B[49m\u001B[43m(\u001B[49m\u001B[43mi\u001B[49m\u001B[43m \u001B[49m\u001B[38;5;241;43m+\u001B[39;49m\u001B[43m \u001B[49m\u001B[38;5;241;43m1\u001B[39;49m\u001B[43m,\u001B[49m\u001B[43m \u001B[49m\u001B[43mpath\u001B[49m\u001B[43m \u001B[49m\u001B[38;5;241;43m+\u001B[39;49m\u001B[43m \u001B[49m\u001B[43m[\u001B[49m\u001B[43ms\u001B[49m\u001B[43m[\u001B[49m\u001B[43mi\u001B[49m\u001B[43m]\u001B[49m\u001B[43m]\u001B[49m\u001B[43m)\u001B[49m\n",
      "    \u001B[0;31m[... skipping similar frames: find_subsequences.<locals>.helper at line 14 (11 times)]\u001B[0m\n",
      "Cell \u001B[0;32mIn[5], line 14\u001B[0m, in \u001B[0;36mfind_subsequences.<locals>.helper\u001B[0;34m(start, path)\u001B[0m\n\u001B[1;32m     12\u001B[0m     \u001B[38;5;28;01mreturn\u001B[39;00m\n\u001B[1;32m     13\u001B[0m \u001B[38;5;28;01mfor\u001B[39;00m i \u001B[38;5;129;01min\u001B[39;00m \u001B[38;5;28mrange\u001B[39m(start, \u001B[38;5;28mlen\u001B[39m(s)):\n\u001B[0;32m---> 14\u001B[0m     helper(i \u001B[38;5;241m+\u001B[39m \u001B[38;5;241m1\u001B[39m, path \u001B[38;5;241m+\u001B[39m [s[i]])\n",
      "\u001B[0;31mKeyboardInterrupt\u001B[0m: "
     ]
    }
   ],
   "execution_count": 5
  },
  {
   "metadata": {},
   "cell_type": "markdown",
   "source": [
    "파이썬과 자바로 구현 : 스택을 사용한 O(N) 그리디 솔루션  \n",
    "https://leetcode.com/problems/smallest-k-length-subsequence-with-occurrences-of-a-letter/solutions/1500174/python-java-o-n-greedy-solution-using-a-stack/"
   ],
   "id": "c127fb8c4942c4e1"
  }
 ],
 "metadata": {
  "kernelspec": {
   "display_name": "Python 3",
   "language": "python",
   "name": "python3"
  },
  "language_info": {
   "codemirror_mode": {
    "name": "ipython",
    "version": 2
   },
   "file_extension": ".py",
   "mimetype": "text/x-python",
   "name": "python",
   "nbconvert_exporter": "python",
   "pygments_lexer": "ipython2",
   "version": "2.7.6"
  }
 },
 "nbformat": 4,
 "nbformat_minor": 5
}
