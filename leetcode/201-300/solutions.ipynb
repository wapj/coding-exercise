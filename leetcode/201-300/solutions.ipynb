{
 "cells": [
  {
   "cell_type": "code",
   "execution_count": 7,
   "metadata": {
    "collapsed": true
   },
   "outputs": [
    {
     "name": "stdout",
     "output_type": "stream",
     "text": [
      "24\n"
     ]
    },
    {
     "data": {
      "text/plain": "[24, 12, 8, 6]"
     },
     "execution_count": 7,
     "metadata": {},
     "output_type": "execute_result"
    }
   ],
   "source": [
    "from typing import List\n",
    "from functools import reduce\n",
    "# 238 https://leetcode.com/problems/product-of-array-except-self\n",
    "\n",
    "# 예외 처리를 하는게 주된 코딩이라 좋은 문제는 아닌듯\n",
    "\n",
    "nums = [1,2,3,4]\n",
    "\n",
    "class Solution:\n",
    "    def productExceptSelf(self, nums: List[int]) -> List[int]:\n",
    "\n",
    "        product, zero_cnt = reduce((lambda x, y: x * (y if y else 1)), nums, 1), nums.count(0)\n",
    "        print(product)\n",
    "        if zero_cnt > 1: return [0] * len(nums)\n",
    "\n",
    "        for i, v in enumerate(nums):\n",
    "            if zero_cnt:\n",
    "                nums[i] = (product if v == 0 else  0)\n",
    "            else:\n",
    "                nums[i] = product // v\n",
    "\n",
    "        return nums"
   ]
  },
  {
   "cell_type": "code",
   "execution_count": null,
   "outputs": [],
   "source": [
    "# 274. h-index https://leetcode.com/problems/h-index/\n",
    "from typing import List\n",
    "\n",
    "citations = [3,0,6,1,5]\n",
    "\n",
    "class Solution:\n",
    "    def hIndex(self, citations: List[int]) -> int:\n",
    "        citations.sort(reverse=True)\n",
    "        arr = []\n",
    "        for i, value in enumerate(citations):\n",
    "            paper_cnt = i + 1\n",
    "            # 인용수와 논문수중에 작은값을 배열에 저장 (h-index)\n",
    "            arr.append(min(value, paper_cnt))\n",
    "        # 저장된 값중 가장 큰값\n",
    "        return max(arr)\n",
    "\n",
    "\n",
    "s = Solution()\n",
    "s.hIndex(citations)"
   ],
   "metadata": {
    "collapsed": false
   }
  },
  {
   "cell_type": "code",
   "execution_count": null,
   "outputs": [],
   "source": [],
   "metadata": {
    "collapsed": false
   }
  }
 ],
 "metadata": {
  "kernelspec": {
   "display_name": "Python 3",
   "language": "python",
   "name": "python3"
  },
  "language_info": {
   "codemirror_mode": {
    "name": "ipython",
    "version": 2
   },
   "file_extension": ".py",
   "mimetype": "text/x-python",
   "name": "python",
   "nbconvert_exporter": "python",
   "pygments_lexer": "ipython2",
   "version": "2.7.6"
  }
 },
 "nbformat": 4,
 "nbformat_minor": 0
}
