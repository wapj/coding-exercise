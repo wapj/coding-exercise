{
 "cells": [
  {
   "cell_type": "code",
   "execution_count": 19,
   "outputs": [
    {
     "data": {
      "text/plain": "10"
     },
     "execution_count": 19,
     "metadata": {},
     "output_type": "execute_result"
    }
   ],
   "source": [
    "# 209 https://leetcode.com/problems/minimum-size-subarray-sum\n",
    "from typing import List\n",
    "\n",
    "\n",
    "# use 슬라이딩 윈도우\n",
    "\n",
    "class Solution:\n",
    "    def min_sub_array_len(self, target: int, nums: List[int]) -> int:\n",
    "        if sum(nums) < target:\n",
    "            return 0\n",
    "        curr_sum, left, answer = 0, 0, len(nums)\n",
    "        for right, val in enumerate(nums):\n",
    "            curr_sum += val\n",
    "            while curr_sum > target:\n",
    "                curr_sum -= nums[left]\n",
    "                answer = min(answer, right - left + 1)\n",
    "                left += 1\n",
    "\n",
    "        return answer\n",
    "\n",
    "target = 255\n",
    "nums = [12,28,83,4,25,26,25,2,25,25,25,12]\n",
    "s = Solution()\n",
    "s.min_sub_array_len(target, nums)\n",
    "\n"
   ],
   "metadata": {
    "collapsed": false,
    "ExecuteTime": {
     "end_time": "2023-07-18T03:02:16.547857Z",
     "start_time": "2023-07-18T03:02:16.544080Z"
    }
   }
  },
  {
   "cell_type": "code",
   "execution_count": null,
   "outputs": [],
   "source": [
    "from typing import List\n",
    "from functools import reduce\n",
    "\n",
    "# 238 https://leetcode.com/problems/product-of-array-except-self\n",
    "\n",
    "# 예외 처리를 하는게 주된 코딩이라 좋은 문제는 아닌듯\n",
    "\n",
    "nums = [1, 2, 3, 4]\n",
    "\n",
    "\n",
    "class Solution:\n",
    "    def productExceptSelf(self, nums: List[int]) -> List[int]:\n",
    "\n",
    "        product, zero_cnt = reduce((lambda x, y: x * (y if y else 1)), nums, 1), nums.count(0)\n",
    "        print(product)\n",
    "        if zero_cnt > 1: return [0] * len(nums)\n",
    "\n",
    "        for i, v in enumerate(nums):\n",
    "            if zero_cnt:\n",
    "                nums[i] = (product if v == 0 else 0)\n",
    "            else:\n",
    "                nums[i] = product // v\n",
    "\n",
    "        return nums"
   ],
   "metadata": {
    "collapsed": false
   }
  },
  {
   "cell_type": "code",
   "execution_count": null,
   "outputs": [],
   "source": [
    "# 274. h-index https://leetcode.com/problems/h-index/\n",
    "from typing import List\n",
    "\n",
    "citations = [3,0,6,1,5]\n",
    "\n",
    "class Solution:\n",
    "    def hIndex(self, citations: List[int]) -> int:\n",
    "        citations.sort(reverse=True)\n",
    "        arr = []\n",
    "        for i, value in enumerate(citations):\n",
    "            paper_cnt = i + 1\n",
    "            # 인용수와 논문수중에 작은값을 배열에 저장 (h-index)\n",
    "            arr.append(min(value, paper_cnt))\n",
    "        # 저장된 값중 가장 큰값\n",
    "        return max(arr)\n",
    "\n",
    "\n",
    "s = Solution()\n",
    "s.hIndex(citations)"
   ],
   "metadata": {
    "collapsed": false
   }
  },
  {
   "cell_type": "code",
   "execution_count": 40,
   "outputs": [
    {
     "name": "stdout",
     "output_type": "stream",
     "text": [
      ">>>  0 0 0\n",
      ">>>  0 1 1\n",
      ">>>  1 1 0\n",
      ">>>  2 0 1\n",
      ">>>  2 1 1\n",
      "[[0, 0, 0], [1, 0, 1], [0, 1, 1], [0, 1, 0]]\n"
     ]
    }
   ],
   "source": [
    "# 289 https://leetcode.com/problems/game-of-life\n",
    "\n",
    "from typing import List\n",
    "\n",
    "class Solution:\n",
    "    def game_of_life(self, board: List[List[int]]):\n",
    "        rows = len(board)\n",
    "        cols = len(board[0])\n",
    "\n",
    "        def check_neighbor(board, row, col):\n",
    "            start_r = 0 if row - 1 <= 0 else row - 1\n",
    "            start_c = 0 if col - 1 <= 0 else col - 1\n",
    "            end_r = rows if row + 1 >= rows else row + 2\n",
    "            end_c = cols if col + 1 >= cols else col + 2\n",
    "\n",
    "            count_live_neighbors = 0\n",
    "            count_died_neighbors = 0\n",
    "\n",
    "            for r in range(start_r, end_r):\n",
    "                for c in range(start_c, end_c):\n",
    "                    if r == row and c == col:\n",
    "                        continue\n",
    "                    # check live or died neighbor count\n",
    "                    if row == 1 and col == 0:\n",
    "                        print(\">>> \", r, c, board[r][c])\n",
    "                    if board[r][c] == 0:\n",
    "                        count_died_neighbors += 1\n",
    "                    if board[r][c] == 1:\n",
    "                        count_live_neighbors += 1\n",
    "\n",
    "            return count_live_neighbors, count_died_neighbors\n",
    "\n",
    "        tmp_board = [[ 0 for _ in range(cols)] for _ in range(rows)]\n",
    "\n",
    "        for row in range(rows):\n",
    "            for col in range(cols):\n",
    "                cln, cdn = check_neighbor(board, row, col)\n",
    "                # apply game rules\n",
    "                is_live_cell = True if board[row][col] == 1 else False\n",
    "                if is_live_cell and cln == 1:\n",
    "                    tmp_board[row][col] = 0\n",
    "                if is_live_cell and cln > 3:\n",
    "                    tmp_board[row][col] = 0\n",
    "                if is_live_cell and (cln == 2 or cln == 3):\n",
    "                    tmp_board[row][col] = 1\n",
    "                if not is_live_cell and cln == 3:\n",
    "                    tmp_board[row][col] = 1\n",
    "\n",
    "        for r in range(rows):\n",
    "            for c in range(cols):\n",
    "                board[r][c] = tmp_board[r][c]\n",
    "\n",
    "        print(board)\n",
    "\n",
    "\n",
    "board = [[0,1,0],[0,0,1],[1,1,1],[0,0,0]]\n",
    "# board = [[1,1],[1,0]]\n",
    "\n",
    "s = Solution()\n",
    "s.game_of_life(board)\n",
    "\n"
   ],
   "metadata": {
    "collapsed": false,
    "ExecuteTime": {
     "end_time": "2023-08-01T03:00:42.694844Z",
     "start_time": "2023-08-01T03:00:42.691342Z"
    }
   }
  },
  {
   "cell_type": "code",
   "execution_count": null,
   "outputs": [],
   "source": [],
   "metadata": {
    "collapsed": false
   }
  }
 ],
 "metadata": {
  "kernelspec": {
   "display_name": "Python 3",
   "language": "python",
   "name": "python3"
  },
  "language_info": {
   "codemirror_mode": {
    "name": "ipython",
    "version": 2
   },
   "file_extension": ".py",
   "mimetype": "text/x-python",
   "name": "python",
   "nbconvert_exporter": "python",
   "pygments_lexer": "ipython2",
   "version": "2.7.6"
  }
 },
 "nbformat": 4,
 "nbformat_minor": 0
}
