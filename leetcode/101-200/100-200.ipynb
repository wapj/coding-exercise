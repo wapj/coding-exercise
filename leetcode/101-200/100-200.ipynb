{
 "cells": [
  {
   "cell_type": "code",
   "execution_count": 3,
   "metadata": {
    "collapsed": true
   },
   "outputs": [
    {
     "name": "stdout",
     "output_type": "stream",
     "text": [
      "[7, 1, 5, 3, 6, 4]\n",
      "5\n"
     ]
    }
   ],
   "source": [
    "# 121 https://leetcode.com/problems/best-time-to-buy-and-sell-stock\n",
    "from  typing import List\n",
    "\n",
    "def max_profit(prices: List[int]):\n",
    "    print(prices)\n",
    "    profit = 0\n",
    "    buy = prices[0]\n",
    "    for sell in prices[1:]:\n",
    "        if sell > buy:\n",
    "            profit = max(profit, sell - buy)\n",
    "        else:\n",
    "            buy = sell\n",
    "    return profit\n",
    "\n",
    "\n",
    "p = [7,1,5,3,6,4]\n",
    "print(max_profit(p))"
   ]
  },
  {
   "cell_type": "code",
   "execution_count": 3,
   "outputs": [
    {
     "name": "stdout",
     "output_type": "stream",
     "text": [
      "7\n"
     ]
    }
   ],
   "source": [
    "# 122  https://leetcode.com/problems/best-time-to-buy-and-sell-stock-ii\n",
    "from typing import List\n",
    "\n",
    "p = [7,1,5,3,6,4]\n",
    "\n",
    "def max_profit2(prices: List[int]):\n",
    "\n",
    "    profit = 0\n",
    "    i, j = 0, 1\n",
    "    while j < len(prices):\n",
    "        diff = prices[j] - prices[i]\n",
    "        if diff > 0:\n",
    "            profit += diff\n",
    "        i += 1\n",
    "        j += 1\n",
    "    return profit\n",
    "\n",
    "print(max_profit2(p))"
   ],
   "metadata": {
    "collapsed": false
   }
  },
  {
   "cell_type": "code",
   "execution_count": null,
   "outputs": [],
   "source": [],
   "metadata": {
    "collapsed": false
   }
  }
 ],
 "metadata": {
  "kernelspec": {
   "display_name": "Python 3",
   "language": "python",
   "name": "python3"
  },
  "language_info": {
   "codemirror_mode": {
    "name": "ipython",
    "version": 2
   },
   "file_extension": ".py",
   "mimetype": "text/x-python",
   "name": "python",
   "nbconvert_exporter": "python",
   "pygments_lexer": "ipython2",
   "version": "2.7.6"
  }
 },
 "nbformat": 4,
 "nbformat_minor": 0
}
