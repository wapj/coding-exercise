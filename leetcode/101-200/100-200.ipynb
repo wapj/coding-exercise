{
 "cells": [
  {
   "cell_type": "code",
   "execution_count": 3,
   "metadata": {
    "collapsed": true
   },
   "outputs": [
    {
     "name": "stdout",
     "output_type": "stream",
     "text": [
      "[7, 1, 5, 3, 6, 4]\n",
      "5\n"
     ]
    }
   ],
   "source": [
    "# 121 https://leetcode.com/problems/best-time-to-buy-and-sell-stock\n",
    "from  typing import List\n",
    "\n",
    "def max_profit(prices: List[int]):\n",
    "    print(prices)\n",
    "    profit = 0\n",
    "    buy = prices[0]\n",
    "    for sell in prices[1:]:\n",
    "        if sell > buy:\n",
    "            profit = max(profit, sell - buy)\n",
    "        else:\n",
    "            buy = sell\n",
    "    return profit\n",
    "\n",
    "\n",
    "p = [7,1,5,3,6,4]\n",
    "print(max_profit(p))"
   ]
  },
  {
   "cell_type": "code",
   "execution_count": 3,
   "outputs": [
    {
     "name": "stdout",
     "output_type": "stream",
     "text": [
      "7\n"
     ]
    }
   ],
   "source": [
    "# 122  https://leetcode.com/problems/best-time-to-buy-and-sell-stock-ii\n",
    "from typing import List\n",
    "\n",
    "p = [7,1,5,3,6,4]\n",
    "\n",
    "def max_profit2(prices: List[int]):\n",
    "\n",
    "    profit = 0\n",
    "    i, j = 0, 1\n",
    "    while j < len(prices):\n",
    "        diff = prices[j] - prices[i]\n",
    "        if diff > 0:\n",
    "            profit += diff\n",
    "        i += 1\n",
    "        j += 1\n",
    "    return profit\n",
    "\n",
    "print(max_profit2(p))"
   ],
   "metadata": {
    "collapsed": false
   }
  },
  {
   "cell_type": "code",
   "execution_count": 17,
   "outputs": [
    {
     "name": "stdout",
     "output_type": "stream",
     "text": [
      "0 -2 1 3\n",
      "0 -2 2 4\n",
      "0 -2 3 5\n",
      "0 3 4 1\n",
      "1 6 5 2\n",
      "2 4 1 3\n",
      "3 2 2 4\n",
      "4 0 3 5\n",
      "통과\n",
      "0 3 5 2\n",
      "1 1 1 3\n",
      "2 -1 2 4\n"
     ]
    }
   ],
   "source": [
    "# 134 https://leetcode.com/problems/gas-station\n",
    "\n",
    "gas = [1,2,3,4,5]\n",
    "cost = [3,4,5,1,2]\n",
    "# brute force로 일단 풀기\n",
    "# 한칸씩 밀면서 끝까지 진행\n",
    "# 도중에 일주에 성공하면 True 리턴\n",
    "# 끝까지 갔는데도 성공 못하면 False 리턴\n",
    "\n",
    "for x in range(len(gas)):\n",
    "    new_gas = gas[x:] + gas[:x]\n",
    "    new_cost = cost[x:] + cost[:x]\n",
    "\n",
    "    total_gas = 0\n",
    "\n",
    "    for i in range(len(gas)):\n",
    "        total_gas += (new_gas[i] - new_cost[i])\n",
    "        print(i, total_gas, new_gas[i], new_cost[i])\n",
    "        if total_gas < 0:\n",
    "            break\n",
    "\n",
    "    if total_gas >= 0:\n",
    "        print(\"통과\")\n",
    "\n",
    "## brute force 는 실패\n",
    "# 다음의 해답으로 성공\n",
    "# curr_gain이 마이너스가 되는 골짜기의 다음 인데스가 정답이며 이중 마지막 골짜기를 건넌다음의 주유소의 인덱스가 정답\n",
    "class Solution:\n",
    "    def canCompleteCircuit(self, gas: List[int], cost: List[int]) -> int:\n",
    "        total_gain = 0\n",
    "        curr_gain = 0\n",
    "        ans = 0\n",
    "\n",
    "        for i in range(len(gas)):\n",
    "            total_gain += gas[i] - cost[i]\n",
    "            curr_gain += gas[i] - cost[i]\n",
    "\n",
    "            if curr_gain < 0:\n",
    "                curr_gain = 0\n",
    "                ans = i + 1\n",
    "        return ans if total_gain >= 0 else -1"
   ],
   "metadata": {
    "collapsed": false,
    "pycharm": {
     "name": "#%%ㄹ\n"
    }
   }
  },
  {
   "cell_type": "code",
   "execution_count": 8,
   "outputs": [
    {
     "name": "stdout",
     "output_type": "stream",
     "text": [
      "[2, 1, 2]\n"
     ]
    },
    {
     "data": {
      "text/plain": "5"
     },
     "execution_count": 8,
     "metadata": {},
     "output_type": "execute_result"
    }
   ],
   "source": [
    "# 135 candy https://leetcode.com/problems/candy/\n",
    "from typing import List\n",
    "\n",
    "\"\"\"\n",
    "first loop make sure children with a higher rating get more candy than its left neighbor\n",
    "second loop make sure children with a higher rating get more candy then its right neighbor\n",
    "\"\"\"\n",
    "\n",
    "class Solution:\n",
    "    def candy(self, ratings: List[int]) -> int:\n",
    "        n = len(ratings)\n",
    "        if n <= 1:\n",
    "            return n\n",
    "\n",
    "        give = [1] * n\n",
    "\n",
    "        for i in range(1, n):\n",
    "            if ratings[i] > ratings[i-1]:\n",
    "                give[i] = give[i - 1] + 1\n",
    "\n",
    "        for i in range(n-2, -1, -1):\n",
    "            if ratings[i] > ratings[i+1] and give[i] <= give[i+1]:\n",
    "                give[i] = give[i+1] + 1\n",
    "\n",
    "        print(give)\n",
    "        return sum(give)\n",
    "\n",
    "sol = Solution()\n",
    "ratings=[1,0,2]\n",
    "sol.candy(ratings)"
   ],
   "metadata": {
    "collapsed": false
   }
  }
 ],
 "metadata": {
  "kernelspec": {
   "display_name": "Python 3",
   "language": "python",
   "name": "python3"
  },
  "language_info": {
   "codemirror_mode": {
    "name": "ipython",
    "version": 2
   },
   "file_extension": ".py",
   "mimetype": "text/x-python",
   "name": "python",
   "nbconvert_exporter": "python",
   "pygments_lexer": "ipython2",
   "version": "2.7.6"
  }
 },
 "nbformat": 4,
 "nbformat_minor": 0
}
