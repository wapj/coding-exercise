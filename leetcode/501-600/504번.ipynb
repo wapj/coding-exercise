{
 "cells": [
  {
   "cell_type": "markdown",
   "id": "b1f3baa1-f166-4284-bacd-220e842c2528",
   "metadata": {},
   "source": [
    "# Base 7 \n",
    "\n",
    "Given an integer `num`, return a string of its *base 7* representation. "
   ]
  },
  {
   "cell_type": "code",
   "execution_count": 4,
   "id": "71c10b5a-e51a-4c8c-9439-0b2c0f6e998f",
   "metadata": {},
   "outputs": [
    {
     "name": "stdout",
     "output_type": "stream",
     "text": [
      "202\n"
     ]
    }
   ],
   "source": [
    "class Solution:\n",
    "    def convertToBase7(self, num: int) -> str:\n",
    "        if num == 0: return \"0\"\n",
    "        \n",
    "        is_negative = num < 0\n",
    "        num = abs(num)\n",
    "        ans = ''\n",
    "        \n",
    "        while num:\n",
    "            num, m = (num // 7, num % 7)\n",
    "            ans += str(m)\n",
    "        \n",
    "        if is_negative:\n",
    "            ans += '-'\n",
    "        \n",
    "        return ans[::-1]\n",
    "\n",
    "sol = Solution()\n",
    "print(sol.convertToBase7(100))"
   ]
  },
  {
   "cell_type": "code",
   "execution_count": 5,
   "id": "2c73ee54-2ebd-4e8b-a2e1-e8ba98424ca6",
   "metadata": {},
   "outputs": [
    {
     "name": "stdout",
     "output_type": "stream",
     "text": [
      "202\n"
     ]
    }
   ],
   "source": [
    "# 메모리 사용량을 줄인 버전 \n",
    "\n",
    "class Solution:\n",
    "    def convertToBase7(self, num: int) -> str:\n",
    "        if num == 0:\n",
    "            return \"0\"\n",
    "\n",
    "        is_negative = num < 0\n",
    "        num = abs(num)\n",
    "        digits = []\n",
    "\n",
    "        while num:\n",
    "            num, remain = divmod(num, 7)\n",
    "            digits.append(str(remain))\n",
    "\n",
    "        if is_negative:\n",
    "            digits.append('-')\n",
    "\n",
    "        return ''.join(digits[::-1])\n",
    "\n",
    "\n",
    "sol = Solution()\n",
    "print(sol.convertToBase7(100))"
   ]
  }
 ],
 "metadata": {
  "kernelspec": {
   "display_name": "Python 3 (ipykernel)",
   "language": "python",
   "name": "python3"
  },
  "language_info": {
   "codemirror_mode": {
    "name": "ipython",
    "version": 3
   },
   "file_extension": ".py",
   "mimetype": "text/x-python",
   "name": "python",
   "nbconvert_exporter": "python",
   "pygments_lexer": "ipython3",
   "version": "3.12.7"
  }
 },
 "nbformat": 4,
 "nbformat_minor": 5
}
